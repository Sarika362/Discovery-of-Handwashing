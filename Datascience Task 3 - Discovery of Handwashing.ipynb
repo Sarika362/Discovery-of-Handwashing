{
 "cells": [
  {
   "cell_type": "markdown",
   "id": "a25e6c2c",
   "metadata": {},
   "source": [
    "# Steps:\n",
    "## 1- Import necessary libraries\n",
    "## 2- Read the yearly deaths dataset\n",
    "## 3- Explore the dataset\n",
    "## 4- Read and explore the monthly deaths dataset\n",
    "## 5- Investigate the number of deaths from 1841 to 1846"
   ]
  },
  {
   "cell_type": "markdown",
   "id": "a1390ea4",
   "metadata": {},
   "source": [
    "### Step 1: Import necessary libraries ###"
   ]
  },
  {
   "cell_type": "code",
   "execution_count": 1,
   "id": "9d4c2dbb",
   "metadata": {},
   "outputs": [],
   "source": [
    "import pandas as pd\n",
    "import numpy as np\n",
    "import matplotlib.pyplot as plt\n",
    "%matplotlib inline "
   ]
  },
  {
   "cell_type": "markdown",
   "id": "f8188736",
   "metadata": {},
   "source": [
    "# I - Yearly Data"
   ]
  },
  {
   "cell_type": "markdown",
   "id": "497363cf",
   "metadata": {},
   "source": [
    "### Step 2: Read the yearly deaths dataset ###"
   ]
  },
  {
   "cell_type": "code",
   "execution_count": 2,
   "id": "28b50aa4",
   "metadata": {},
   "outputs": [
    {
     "data": {
      "text/html": [
       "<div>\n",
       "<style scoped>\n",
       "    .dataframe tbody tr th:only-of-type {\n",
       "        vertical-align: middle;\n",
       "    }\n",
       "\n",
       "    .dataframe tbody tr th {\n",
       "        vertical-align: top;\n",
       "    }\n",
       "\n",
       "    .dataframe thead th {\n",
       "        text-align: right;\n",
       "    }\n",
       "</style>\n",
       "<table border=\"1\" class=\"dataframe\">\n",
       "  <thead>\n",
       "    <tr style=\"text-align: right;\">\n",
       "      <th></th>\n",
       "      <th>year</th>\n",
       "      <th>births</th>\n",
       "      <th>deaths</th>\n",
       "      <th>clinic</th>\n",
       "    </tr>\n",
       "  </thead>\n",
       "  <tbody>\n",
       "    <tr>\n",
       "      <th>0</th>\n",
       "      <td>1841</td>\n",
       "      <td>3036</td>\n",
       "      <td>237</td>\n",
       "      <td>clinic 1</td>\n",
       "    </tr>\n",
       "    <tr>\n",
       "      <th>1</th>\n",
       "      <td>1842</td>\n",
       "      <td>3287</td>\n",
       "      <td>518</td>\n",
       "      <td>clinic 1</td>\n",
       "    </tr>\n",
       "    <tr>\n",
       "      <th>2</th>\n",
       "      <td>1843</td>\n",
       "      <td>3060</td>\n",
       "      <td>274</td>\n",
       "      <td>clinic 1</td>\n",
       "    </tr>\n",
       "    <tr>\n",
       "      <th>3</th>\n",
       "      <td>1844</td>\n",
       "      <td>3157</td>\n",
       "      <td>260</td>\n",
       "      <td>clinic 1</td>\n",
       "    </tr>\n",
       "    <tr>\n",
       "      <th>4</th>\n",
       "      <td>1845</td>\n",
       "      <td>3492</td>\n",
       "      <td>241</td>\n",
       "      <td>clinic 1</td>\n",
       "    </tr>\n",
       "    <tr>\n",
       "      <th>5</th>\n",
       "      <td>1846</td>\n",
       "      <td>4010</td>\n",
       "      <td>459</td>\n",
       "      <td>clinic 1</td>\n",
       "    </tr>\n",
       "    <tr>\n",
       "      <th>6</th>\n",
       "      <td>1841</td>\n",
       "      <td>2442</td>\n",
       "      <td>86</td>\n",
       "      <td>clinic 2</td>\n",
       "    </tr>\n",
       "    <tr>\n",
       "      <th>7</th>\n",
       "      <td>1842</td>\n",
       "      <td>2659</td>\n",
       "      <td>202</td>\n",
       "      <td>clinic 2</td>\n",
       "    </tr>\n",
       "    <tr>\n",
       "      <th>8</th>\n",
       "      <td>1843</td>\n",
       "      <td>2739</td>\n",
       "      <td>164</td>\n",
       "      <td>clinic 2</td>\n",
       "    </tr>\n",
       "    <tr>\n",
       "      <th>9</th>\n",
       "      <td>1844</td>\n",
       "      <td>2956</td>\n",
       "      <td>68</td>\n",
       "      <td>clinic 2</td>\n",
       "    </tr>\n",
       "    <tr>\n",
       "      <th>10</th>\n",
       "      <td>1845</td>\n",
       "      <td>3241</td>\n",
       "      <td>66</td>\n",
       "      <td>clinic 2</td>\n",
       "    </tr>\n",
       "    <tr>\n",
       "      <th>11</th>\n",
       "      <td>1846</td>\n",
       "      <td>3754</td>\n",
       "      <td>105</td>\n",
       "      <td>clinic 2</td>\n",
       "    </tr>\n",
       "  </tbody>\n",
       "</table>\n",
       "</div>"
      ],
      "text/plain": [
       "    year  births  deaths    clinic\n",
       "0   1841    3036     237  clinic 1\n",
       "1   1842    3287     518  clinic 1\n",
       "2   1843    3060     274  clinic 1\n",
       "3   1844    3157     260  clinic 1\n",
       "4   1845    3492     241  clinic 1\n",
       "5   1846    4010     459  clinic 1\n",
       "6   1841    2442      86  clinic 2\n",
       "7   1842    2659     202  clinic 2\n",
       "8   1843    2739     164  clinic 2\n",
       "9   1844    2956      68  clinic 2\n",
       "10  1845    3241      66  clinic 2\n",
       "11  1846    3754     105  clinic 2"
      ]
     },
     "execution_count": 2,
     "metadata": {},
     "output_type": "execute_result"
    }
   ],
   "source": [
    "yearly_df = pd.read_csv(\"dataset/yearly_deaths_by_clinic.csv\")\n",
    "\n",
    "yearly_df"
   ]
  },
  {
   "cell_type": "markdown",
   "id": "4be37bf1",
   "metadata": {},
   "source": [
    "### Step 3: Explore the dataset ###"
   ]
  },
  {
   "cell_type": "code",
   "execution_count": 3,
   "id": "34349218",
   "metadata": {},
   "outputs": [
    {
     "name": "stdout",
     "output_type": "stream",
     "text": [
      "   year  births  deaths    clinic\n",
      "0  1841    3036     237  clinic 1\n",
      "1  1842    3287     518  clinic 1\n",
      "2  1843    3060     274  clinic 1\n",
      "3  1844    3157     260  clinic 1\n",
      "4  1845    3492     241  clinic 1\n"
     ]
    }
   ],
   "source": [
    "print(yearly_df.head())"
   ]
  },
  {
   "cell_type": "code",
   "execution_count": 4,
   "id": "d4927639",
   "metadata": {},
   "outputs": [
    {
     "data": {
      "text/plain": [
       "(12, 4)"
      ]
     },
     "execution_count": 4,
     "metadata": {},
     "output_type": "execute_result"
    }
   ],
   "source": [
    "yearly_df.shape"
   ]
  },
  {
   "cell_type": "code",
   "execution_count": 5,
   "id": "1652edd7",
   "metadata": {},
   "outputs": [
    {
     "name": "stdout",
     "output_type": "stream",
     "text": [
      "<class 'pandas.core.frame.DataFrame'>\n",
      "RangeIndex: 12 entries, 0 to 11\n",
      "Data columns (total 4 columns):\n",
      " #   Column  Non-Null Count  Dtype \n",
      "---  ------  --------------  ----- \n",
      " 0   year    12 non-null     int64 \n",
      " 1   births  12 non-null     int64 \n",
      " 2   deaths  12 non-null     int64 \n",
      " 3   clinic  12 non-null     object\n",
      "dtypes: int64(3), object(1)\n",
      "memory usage: 516.0+ bytes\n"
     ]
    }
   ],
   "source": [
    "yearly_df.info()"
   ]
  },
  {
   "cell_type": "code",
   "execution_count": 6,
   "id": "4db9669d",
   "metadata": {},
   "outputs": [
    {
     "data": {
      "text/plain": [
       "clinic\n",
       "clinic 1    1989\n",
       "clinic 2     691\n",
       "Name: deaths, dtype: int64"
      ]
     },
     "execution_count": 6,
     "metadata": {},
     "output_type": "execute_result"
    }
   ],
   "source": [
    "# Calculate total deaths per clinic\n",
    "\n",
    "yearly_df.groupby(\"clinic\")[\"deaths\"].sum()"
   ]
  },
  {
   "cell_type": "markdown",
   "id": "53d326b7",
   "metadata": {},
   "source": [
    "## The above results shows us the number of births and deaths in 2 clinics from the year 1841 till 1846. It's obvious that the number of deaths in clinic 1 is higher than that of clinic 2. "
   ]
  },
  {
   "cell_type": "markdown",
   "id": "f0a02402",
   "metadata": {},
   "source": [
    "### To make the analysis easier, we can calculate the proportion of deaths."
   ]
  },
  {
   "cell_type": "markdown",
   "id": "af924ca7",
   "metadata": {},
   "source": [
    "#### Calculate the proportion of deaths"
   ]
  },
  {
   "cell_type": "code",
   "execution_count": 7,
   "id": "c478e02b",
   "metadata": {},
   "outputs": [
    {
     "data": {
      "text/html": [
       "<div>\n",
       "<style scoped>\n",
       "    .dataframe tbody tr th:only-of-type {\n",
       "        vertical-align: middle;\n",
       "    }\n",
       "\n",
       "    .dataframe tbody tr th {\n",
       "        vertical-align: top;\n",
       "    }\n",
       "\n",
       "    .dataframe thead th {\n",
       "        text-align: right;\n",
       "    }\n",
       "</style>\n",
       "<table border=\"1\" class=\"dataframe\">\n",
       "  <thead>\n",
       "    <tr style=\"text-align: right;\">\n",
       "      <th></th>\n",
       "      <th>year</th>\n",
       "      <th>births</th>\n",
       "      <th>deaths</th>\n",
       "      <th>clinic</th>\n",
       "      <th>Proportion of Deaths</th>\n",
       "    </tr>\n",
       "  </thead>\n",
       "  <tbody>\n",
       "    <tr>\n",
       "      <th>0</th>\n",
       "      <td>1841</td>\n",
       "      <td>3036</td>\n",
       "      <td>237</td>\n",
       "      <td>clinic 1</td>\n",
       "      <td>0.078063</td>\n",
       "    </tr>\n",
       "    <tr>\n",
       "      <th>1</th>\n",
       "      <td>1842</td>\n",
       "      <td>3287</td>\n",
       "      <td>518</td>\n",
       "      <td>clinic 1</td>\n",
       "      <td>0.157591</td>\n",
       "    </tr>\n",
       "    <tr>\n",
       "      <th>2</th>\n",
       "      <td>1843</td>\n",
       "      <td>3060</td>\n",
       "      <td>274</td>\n",
       "      <td>clinic 1</td>\n",
       "      <td>0.089542</td>\n",
       "    </tr>\n",
       "    <tr>\n",
       "      <th>3</th>\n",
       "      <td>1844</td>\n",
       "      <td>3157</td>\n",
       "      <td>260</td>\n",
       "      <td>clinic 1</td>\n",
       "      <td>0.082357</td>\n",
       "    </tr>\n",
       "    <tr>\n",
       "      <th>4</th>\n",
       "      <td>1845</td>\n",
       "      <td>3492</td>\n",
       "      <td>241</td>\n",
       "      <td>clinic 1</td>\n",
       "      <td>0.069015</td>\n",
       "    </tr>\n",
       "    <tr>\n",
       "      <th>5</th>\n",
       "      <td>1846</td>\n",
       "      <td>4010</td>\n",
       "      <td>459</td>\n",
       "      <td>clinic 1</td>\n",
       "      <td>0.114464</td>\n",
       "    </tr>\n",
       "    <tr>\n",
       "      <th>6</th>\n",
       "      <td>1841</td>\n",
       "      <td>2442</td>\n",
       "      <td>86</td>\n",
       "      <td>clinic 2</td>\n",
       "      <td>0.035217</td>\n",
       "    </tr>\n",
       "    <tr>\n",
       "      <th>7</th>\n",
       "      <td>1842</td>\n",
       "      <td>2659</td>\n",
       "      <td>202</td>\n",
       "      <td>clinic 2</td>\n",
       "      <td>0.075968</td>\n",
       "    </tr>\n",
       "    <tr>\n",
       "      <th>8</th>\n",
       "      <td>1843</td>\n",
       "      <td>2739</td>\n",
       "      <td>164</td>\n",
       "      <td>clinic 2</td>\n",
       "      <td>0.059876</td>\n",
       "    </tr>\n",
       "    <tr>\n",
       "      <th>9</th>\n",
       "      <td>1844</td>\n",
       "      <td>2956</td>\n",
       "      <td>68</td>\n",
       "      <td>clinic 2</td>\n",
       "      <td>0.023004</td>\n",
       "    </tr>\n",
       "    <tr>\n",
       "      <th>10</th>\n",
       "      <td>1845</td>\n",
       "      <td>3241</td>\n",
       "      <td>66</td>\n",
       "      <td>clinic 2</td>\n",
       "      <td>0.020364</td>\n",
       "    </tr>\n",
       "    <tr>\n",
       "      <th>11</th>\n",
       "      <td>1846</td>\n",
       "      <td>3754</td>\n",
       "      <td>105</td>\n",
       "      <td>clinic 2</td>\n",
       "      <td>0.027970</td>\n",
       "    </tr>\n",
       "  </tbody>\n",
       "</table>\n",
       "</div>"
      ],
      "text/plain": [
       "    year  births  deaths    clinic  Proportion of Deaths\n",
       "0   1841    3036     237  clinic 1              0.078063\n",
       "1   1842    3287     518  clinic 1              0.157591\n",
       "2   1843    3060     274  clinic 1              0.089542\n",
       "3   1844    3157     260  clinic 1              0.082357\n",
       "4   1845    3492     241  clinic 1              0.069015\n",
       "5   1846    4010     459  clinic 1              0.114464\n",
       "6   1841    2442      86  clinic 2              0.035217\n",
       "7   1842    2659     202  clinic 2              0.075968\n",
       "8   1843    2739     164  clinic 2              0.059876\n",
       "9   1844    2956      68  clinic 2              0.023004\n",
       "10  1845    3241      66  clinic 2              0.020364\n",
       "11  1846    3754     105  clinic 2              0.027970"
      ]
     },
     "execution_count": 7,
     "metadata": {},
     "output_type": "execute_result"
    }
   ],
   "source": [
    "yearly_df[\"Proportion of Deaths\"] = yearly_df[\"deaths\"] / yearly_df[\"births\"]\n",
    "\n",
    "yearly_df"
   ]
  },
  {
   "cell_type": "markdown",
   "id": "200a4d7b",
   "metadata": {},
   "source": [
    "#### Separate the dataset into 2 datasets, one for each clinic"
   ]
  },
  {
   "cell_type": "code",
   "execution_count": 8,
   "id": "0c9baf22",
   "metadata": {},
   "outputs": [],
   "source": [
    "clinic_1 = yearly_df[yearly_df[\"clinic\"] == \"clinic 1\"]\n",
    "clinic_2 = yearly_df[yearly_df[\"clinic\"] == \"clinic 2\"]"
   ]
  },
  {
   "cell_type": "code",
   "execution_count": 9,
   "id": "03a49b6a",
   "metadata": {},
   "outputs": [
    {
     "data": {
      "text/html": [
       "<div>\n",
       "<style scoped>\n",
       "    .dataframe tbody tr th:only-of-type {\n",
       "        vertical-align: middle;\n",
       "    }\n",
       "\n",
       "    .dataframe tbody tr th {\n",
       "        vertical-align: top;\n",
       "    }\n",
       "\n",
       "    .dataframe thead th {\n",
       "        text-align: right;\n",
       "    }\n",
       "</style>\n",
       "<table border=\"1\" class=\"dataframe\">\n",
       "  <thead>\n",
       "    <tr style=\"text-align: right;\">\n",
       "      <th></th>\n",
       "      <th>year</th>\n",
       "      <th>births</th>\n",
       "      <th>deaths</th>\n",
       "      <th>clinic</th>\n",
       "      <th>Proportion of Deaths</th>\n",
       "    </tr>\n",
       "  </thead>\n",
       "  <tbody>\n",
       "    <tr>\n",
       "      <th>0</th>\n",
       "      <td>1841</td>\n",
       "      <td>3036</td>\n",
       "      <td>237</td>\n",
       "      <td>clinic 1</td>\n",
       "      <td>0.078063</td>\n",
       "    </tr>\n",
       "    <tr>\n",
       "      <th>1</th>\n",
       "      <td>1842</td>\n",
       "      <td>3287</td>\n",
       "      <td>518</td>\n",
       "      <td>clinic 1</td>\n",
       "      <td>0.157591</td>\n",
       "    </tr>\n",
       "    <tr>\n",
       "      <th>2</th>\n",
       "      <td>1843</td>\n",
       "      <td>3060</td>\n",
       "      <td>274</td>\n",
       "      <td>clinic 1</td>\n",
       "      <td>0.089542</td>\n",
       "    </tr>\n",
       "    <tr>\n",
       "      <th>3</th>\n",
       "      <td>1844</td>\n",
       "      <td>3157</td>\n",
       "      <td>260</td>\n",
       "      <td>clinic 1</td>\n",
       "      <td>0.082357</td>\n",
       "    </tr>\n",
       "    <tr>\n",
       "      <th>4</th>\n",
       "      <td>1845</td>\n",
       "      <td>3492</td>\n",
       "      <td>241</td>\n",
       "      <td>clinic 1</td>\n",
       "      <td>0.069015</td>\n",
       "    </tr>\n",
       "    <tr>\n",
       "      <th>5</th>\n",
       "      <td>1846</td>\n",
       "      <td>4010</td>\n",
       "      <td>459</td>\n",
       "      <td>clinic 1</td>\n",
       "      <td>0.114464</td>\n",
       "    </tr>\n",
       "  </tbody>\n",
       "</table>\n",
       "</div>"
      ],
      "text/plain": [
       "   year  births  deaths    clinic  Proportion of Deaths\n",
       "0  1841    3036     237  clinic 1              0.078063\n",
       "1  1842    3287     518  clinic 1              0.157591\n",
       "2  1843    3060     274  clinic 1              0.089542\n",
       "3  1844    3157     260  clinic 1              0.082357\n",
       "4  1845    3492     241  clinic 1              0.069015\n",
       "5  1846    4010     459  clinic 1              0.114464"
      ]
     },
     "execution_count": 9,
     "metadata": {},
     "output_type": "execute_result"
    }
   ],
   "source": [
    "clinic_1"
   ]
  },
  {
   "cell_type": "code",
   "execution_count": 10,
   "id": "d04006aa",
   "metadata": {},
   "outputs": [
    {
     "data": {
      "text/html": [
       "<div>\n",
       "<style scoped>\n",
       "    .dataframe tbody tr th:only-of-type {\n",
       "        vertical-align: middle;\n",
       "    }\n",
       "\n",
       "    .dataframe tbody tr th {\n",
       "        vertical-align: top;\n",
       "    }\n",
       "\n",
       "    .dataframe thead th {\n",
       "        text-align: right;\n",
       "    }\n",
       "</style>\n",
       "<table border=\"1\" class=\"dataframe\">\n",
       "  <thead>\n",
       "    <tr style=\"text-align: right;\">\n",
       "      <th></th>\n",
       "      <th>year</th>\n",
       "      <th>births</th>\n",
       "      <th>deaths</th>\n",
       "      <th>clinic</th>\n",
       "      <th>Proportion of Deaths</th>\n",
       "    </tr>\n",
       "  </thead>\n",
       "  <tbody>\n",
       "    <tr>\n",
       "      <th>6</th>\n",
       "      <td>1841</td>\n",
       "      <td>2442</td>\n",
       "      <td>86</td>\n",
       "      <td>clinic 2</td>\n",
       "      <td>0.035217</td>\n",
       "    </tr>\n",
       "    <tr>\n",
       "      <th>7</th>\n",
       "      <td>1842</td>\n",
       "      <td>2659</td>\n",
       "      <td>202</td>\n",
       "      <td>clinic 2</td>\n",
       "      <td>0.075968</td>\n",
       "    </tr>\n",
       "    <tr>\n",
       "      <th>8</th>\n",
       "      <td>1843</td>\n",
       "      <td>2739</td>\n",
       "      <td>164</td>\n",
       "      <td>clinic 2</td>\n",
       "      <td>0.059876</td>\n",
       "    </tr>\n",
       "    <tr>\n",
       "      <th>9</th>\n",
       "      <td>1844</td>\n",
       "      <td>2956</td>\n",
       "      <td>68</td>\n",
       "      <td>clinic 2</td>\n",
       "      <td>0.023004</td>\n",
       "    </tr>\n",
       "    <tr>\n",
       "      <th>10</th>\n",
       "      <td>1845</td>\n",
       "      <td>3241</td>\n",
       "      <td>66</td>\n",
       "      <td>clinic 2</td>\n",
       "      <td>0.020364</td>\n",
       "    </tr>\n",
       "    <tr>\n",
       "      <th>11</th>\n",
       "      <td>1846</td>\n",
       "      <td>3754</td>\n",
       "      <td>105</td>\n",
       "      <td>clinic 2</td>\n",
       "      <td>0.027970</td>\n",
       "    </tr>\n",
       "  </tbody>\n",
       "</table>\n",
       "</div>"
      ],
      "text/plain": [
       "    year  births  deaths    clinic  Proportion of Deaths\n",
       "6   1841    2442      86  clinic 2              0.035217\n",
       "7   1842    2659     202  clinic 2              0.075968\n",
       "8   1843    2739     164  clinic 2              0.059876\n",
       "9   1844    2956      68  clinic 2              0.023004\n",
       "10  1845    3241      66  clinic 2              0.020364\n",
       "11  1846    3754     105  clinic 2              0.027970"
      ]
     },
     "execution_count": 10,
     "metadata": {},
     "output_type": "execute_result"
    }
   ],
   "source": [
    "clinic_2"
   ]
  },
  {
   "cell_type": "markdown",
   "id": "6611c014",
   "metadata": {},
   "source": [
    "#### Visualize the Number of deaths every year in clinic 1"
   ]
  },
  {
   "cell_type": "code",
   "execution_count": 11,
   "id": "3d71fb75",
   "metadata": {},
   "outputs": [
    {
     "data": {
      "text/plain": [
       "Text(0, 0.5, 'Number of Deaths')"
      ]
     },
     "execution_count": 11,
     "metadata": {},
     "output_type": "execute_result"
    },
    {
     "data": {
      "image/png": "[encoded data removed]",
      "text/plain": [
       "<Figure size 1000x400 with 1 Axes>"
      ]
     },
     "metadata": {},
     "output_type": "display_data"
    }
   ],
   "source": [
    "fig,ax = plt.subplots(figsize = (10,4))\n",
    "plt.bar(clinic_1.year, clinic_1.deaths, width= 0.6, color= \"red\")\n",
    "plt.title(\"Clinic 1: Number of Deaths per Year\", fontsize=16)\n",
    "plt.xlabel(\"Year\", fontsize=14)\n",
    "plt.ylabel(\"Number of Deaths\", fontsize=14)"
   ]
  },
  {
   "cell_type": "markdown",
   "id": "bb456897",
   "metadata": {},
   "source": [
    "#### Visualize the Number of deaths every year in clinic 2"
   ]
  },
  {
   "cell_type": "code",
   "execution_count": 12,
   "id": "dada1ab1",
   "metadata": {},
   "outputs": [
    {
     "data": {
      "text/plain": [
       "Text(0, 0.5, 'Number of Deaths')"
      ]
     },
     "execution_count": 12,
     "metadata": {},
     "output_type": "execute_result"
    },
    {
     "data": {
      "image/png": "[encoded data removed]",
      "text/plain": [
       "<Figure size 1000x400 with 1 Axes>"
      ]
     },
     "metadata": {},
     "output_type": "display_data"
    }
   ],
   "source": [
    "fig,ax = plt.subplots(figsize = (10,4))\n",
    "plt.bar(clinic_2.year, clinic_2.deaths, width= 0.6, color= \"green\")\n",
    "plt.title(\"Clinic 2: Number of Deaths per Year\", fontsize=16)\n",
    "plt.xlabel(\"Year\", fontsize=14)\n",
    "plt.ylabel(\"Number of Deaths\", fontsize=14)"
   ]
  },
  {
   "cell_type": "markdown",
   "id": "7a04be69",
   "metadata": {},
   "source": [
    "## It seems that 1842 was a pretty hectic year in both clinic 1 & 2 where the numbers of deaths were 518 and 202 respectively"
   ]
  },
  {
   "cell_type": "markdown",
   "id": "65adee5d",
   "metadata": {},
   "source": [
    "#### Plot the proportion of deaths in clinic 1 and 2"
   ]
  },
  {
   "cell_type": "code",
   "execution_count": 13,
   "id": "dd92f6eb",
   "metadata": {},
   "outputs": [
    {
     "data": {
      "text/plain": [
       "<Axes: xlabel='year', ylabel='Proportion of Deaths'>"
      ]
     },
     "execution_count": 13,
     "metadata": {},
     "output_type": "execute_result"
    },
    {
     "data": {
      "image/png": "[encoded data removed]",
      "text/plain": [
       "<Figure size 640x480 with 1 Axes>"
      ]
     },
     "metadata": {},
     "output_type": "display_data"
    }
   ],
   "source": [
    "ax= clinic_1.plot(x= \"year\", y= \"Proportion of Deaths\", label= \"clinic_1\", color=\"red\")\n",
    "clinic_2.plot(x= \"year\", y= \"Proportion of Deaths\", label= \"clinic_2\", ax=ax, ylabel= \"Proportion of Deaths\", color=\"green\")"
   ]
  },
  {
   "cell_type": "markdown",
   "id": "e9af8e35",
   "metadata": {},
   "source": [
    "## By looking further into why this happened, Dr Semmelweis realized that many medical students worked at clinic 1 who also as a part of their study, spend a lot of time in the autopsy room. So, he realized that dealing with corpses spread bacteria that would be transferred to the women giving birth, infecting them with the deadly childbed fever, which was the main reason for the high mortality rates. "
   ]
  },
  {
   "cell_type": "markdown",
   "id": "5736671a",
   "metadata": {},
   "source": [
    "# II - Monthly Data"
   ]
  },
  {
   "cell_type": "markdown",
   "id": "914d810f",
   "metadata": {},
   "source": [
    "### Step 5: Read the monthly dataset"
   ]
  },
  {
   "cell_type": "code",
   "execution_count": 14,
   "id": "1c762657",
   "metadata": {},
   "outputs": [
    {
     "data": {
      "text/html": [
       "<div>\n",
       "<style scoped>\n",
       "    .dataframe tbody tr th:only-of-type {\n",
       "        vertical-align: middle;\n",
       "    }\n",
       "\n",
       "    .dataframe tbody tr th {\n",
       "        vertical-align: top;\n",
       "    }\n",
       "\n",
       "    .dataframe thead th {\n",
       "        text-align: right;\n",
       "    }\n",
       "</style>\n",
       "<table border=\"1\" class=\"dataframe\">\n",
       "  <thead>\n",
       "    <tr style=\"text-align: right;\">\n",
       "      <th></th>\n",
       "      <th>date</th>\n",
       "      <th>births</th>\n",
       "      <th>deaths</th>\n",
       "    </tr>\n",
       "  </thead>\n",
       "  <tbody>\n",
       "    <tr>\n",
       "      <th>0</th>\n",
       "      <td>1841-01-01</td>\n",
       "      <td>254</td>\n",
       "      <td>37</td>\n",
       "    </tr>\n",
       "    <tr>\n",
       "      <th>1</th>\n",
       "      <td>1841-02-01</td>\n",
       "      <td>239</td>\n",
       "      <td>18</td>\n",
       "    </tr>\n",
       "    <tr>\n",
       "      <th>2</th>\n",
       "      <td>1841-03-01</td>\n",
       "      <td>277</td>\n",
       "      <td>12</td>\n",
       "    </tr>\n",
       "    <tr>\n",
       "      <th>3</th>\n",
       "      <td>1841-04-01</td>\n",
       "      <td>255</td>\n",
       "      <td>4</td>\n",
       "    </tr>\n",
       "    <tr>\n",
       "      <th>4</th>\n",
       "      <td>1841-05-01</td>\n",
       "      <td>255</td>\n",
       "      <td>2</td>\n",
       "    </tr>\n",
       "    <tr>\n",
       "      <th>...</th>\n",
       "      <td>...</td>\n",
       "      <td>...</td>\n",
       "      <td>...</td>\n",
       "    </tr>\n",
       "    <tr>\n",
       "      <th>93</th>\n",
       "      <td>1848-11-01</td>\n",
       "      <td>310</td>\n",
       "      <td>9</td>\n",
       "    </tr>\n",
       "    <tr>\n",
       "      <th>94</th>\n",
       "      <td>1848-12-01</td>\n",
       "      <td>373</td>\n",
       "      <td>5</td>\n",
       "    </tr>\n",
       "    <tr>\n",
       "      <th>95</th>\n",
       "      <td>1849-01-01</td>\n",
       "      <td>403</td>\n",
       "      <td>9</td>\n",
       "    </tr>\n",
       "    <tr>\n",
       "      <th>96</th>\n",
       "      <td>1849-02-01</td>\n",
       "      <td>389</td>\n",
       "      <td>12</td>\n",
       "    </tr>\n",
       "    <tr>\n",
       "      <th>97</th>\n",
       "      <td>1849-03-01</td>\n",
       "      <td>406</td>\n",
       "      <td>20</td>\n",
       "    </tr>\n",
       "  </tbody>\n",
       "</table>\n",
       "<p>98 rows × 3 columns</p>\n",
       "</div>"
      ],
      "text/plain": [
       "          date  births  deaths\n",
       "0   1841-01-01     254      37\n",
       "1   1841-02-01     239      18\n",
       "2   1841-03-01     277      12\n",
       "3   1841-04-01     255       4\n",
       "4   1841-05-01     255       2\n",
       "..         ...     ...     ...\n",
       "93  1848-11-01     310       9\n",
       "94  1848-12-01     373       5\n",
       "95  1849-01-01     403       9\n",
       "96  1849-02-01     389      12\n",
       "97  1849-03-01     406      20\n",
       "\n",
       "[98 rows x 3 columns]"
      ]
     },
     "execution_count": 14,
     "metadata": {},
     "output_type": "execute_result"
    }
   ],
   "source": [
    "monthly_df = pd.read_csv(\"dataset/monthly_deaths.csv\")\n",
    "\n",
    "monthly_df"
   ]
  },
  {
   "cell_type": "markdown",
   "id": "d03a486a",
   "metadata": {},
   "source": [
    "### Step 6: Explore the dataset"
   ]
  },
  {
   "cell_type": "code",
   "execution_count": 15,
   "id": "66b792cd",
   "metadata": {},
   "outputs": [
    {
     "name": "stdout",
     "output_type": "stream",
     "text": [
      "         date  births  deaths\n",
      "0  1841-01-01     254      37\n",
      "1  1841-02-01     239      18\n",
      "2  1841-03-01     277      12\n",
      "3  1841-04-01     255       4\n",
      "4  1841-05-01     255       2\n"
     ]
    }
   ],
   "source": [
    "print(monthly_df.head())"
   ]
  },
  {
   "cell_type": "code",
   "execution_count": 16,
   "id": "e12dba41",
   "metadata": {},
   "outputs": [
    {
     "data": {
      "text/plain": [
       "(98, 3)"
      ]
     },
     "execution_count": 16,
     "metadata": {},
     "output_type": "execute_result"
    }
   ],
   "source": [
    "monthly_df.shape"
   ]
  },
  {
   "cell_type": "code",
   "execution_count": 17,
   "id": "07c2c6f9",
   "metadata": {},
   "outputs": [
    {
     "name": "stdout",
     "output_type": "stream",
     "text": [
      "<class 'pandas.core.frame.DataFrame'>\n",
      "RangeIndex: 98 entries, 0 to 97\n",
      "Data columns (total 3 columns):\n",
      " #   Column  Non-Null Count  Dtype \n",
      "---  ------  --------------  ----- \n",
      " 0   date    98 non-null     object\n",
      " 1   births  98 non-null     int64 \n",
      " 2   deaths  98 non-null     int64 \n",
      "dtypes: int64(2), object(1)\n",
      "memory usage: 2.4+ KB\n",
      "None\n"
     ]
    }
   ],
   "source": [
    "print(monthly_df.info())"
   ]
  },
  {
   "cell_type": "markdown",
   "id": "aef111f3",
   "metadata": {},
   "source": [
    "#### Calculate the proportion of deaths per month"
   ]
  },
  {
   "cell_type": "code",
   "execution_count": 18,
   "id": "6315f44a",
   "metadata": {},
   "outputs": [
    {
     "data": {
      "text/html": [
       "<div>\n",
       "<style scoped>\n",
       "    .dataframe tbody tr th:only-of-type {\n",
       "        vertical-align: middle;\n",
       "    }\n",
       "\n",
       "    .dataframe tbody tr th {\n",
       "        vertical-align: top;\n",
       "    }\n",
       "\n",
       "    .dataframe thead th {\n",
       "        text-align: right;\n",
       "    }\n",
       "</style>\n",
       "<table border=\"1\" class=\"dataframe\">\n",
       "  <thead>\n",
       "    <tr style=\"text-align: right;\">\n",
       "      <th></th>\n",
       "      <th>date</th>\n",
       "      <th>births</th>\n",
       "      <th>deaths</th>\n",
       "      <th>Proportion of Deaths</th>\n",
       "    </tr>\n",
       "  </thead>\n",
       "  <tbody>\n",
       "    <tr>\n",
       "      <th>0</th>\n",
       "      <td>1841-01-01</td>\n",
       "      <td>254</td>\n",
       "      <td>37</td>\n",
       "      <td>0.145669</td>\n",
       "    </tr>\n",
       "    <tr>\n",
       "      <th>1</th>\n",
       "      <td>1841-02-01</td>\n",
       "      <td>239</td>\n",
       "      <td>18</td>\n",
       "      <td>0.075314</td>\n",
       "    </tr>\n",
       "    <tr>\n",
       "      <th>2</th>\n",
       "      <td>1841-03-01</td>\n",
       "      <td>277</td>\n",
       "      <td>12</td>\n",
       "      <td>0.043321</td>\n",
       "    </tr>\n",
       "    <tr>\n",
       "      <th>3</th>\n",
       "      <td>1841-04-01</td>\n",
       "      <td>255</td>\n",
       "      <td>4</td>\n",
       "      <td>0.015686</td>\n",
       "    </tr>\n",
       "    <tr>\n",
       "      <th>4</th>\n",
       "      <td>1841-05-01</td>\n",
       "      <td>255</td>\n",
       "      <td>2</td>\n",
       "      <td>0.007843</td>\n",
       "    </tr>\n",
       "  </tbody>\n",
       "</table>\n",
       "</div>"
      ],
      "text/plain": [
       "         date  births  deaths  Proportion of Deaths\n",
       "0  1841-01-01     254      37              0.145669\n",
       "1  1841-02-01     239      18              0.075314\n",
       "2  1841-03-01     277      12              0.043321\n",
       "3  1841-04-01     255       4              0.015686\n",
       "4  1841-05-01     255       2              0.007843"
      ]
     },
     "execution_count": 18,
     "metadata": {},
     "output_type": "execute_result"
    }
   ],
   "source": [
    "monthly_df[\"Proportion of Deaths\"]= monthly_df[\"deaths\"] / monthly_df[\"births\"]\n",
    "monthly_df.head(5)"
   ]
  },
  {
   "cell_type": "markdown",
   "id": "01ed7a71",
   "metadata": {},
   "source": [
    "## Dr Semmelweis ordered the doctors to wash their hands and made it obligatory in the summer of 1847 to see if that will affect the number of deaths, and since we have the monthly data now, we can trace the number of deaths before and after the handwashing started. "
   ]
  },
  {
   "cell_type": "markdown",
   "id": "c36721c8",
   "metadata": {},
   "source": [
    "#### Change the data type of \"date\" column from string to datatime"
   ]
  },
  {
   "cell_type": "code",
   "execution_count": 19,
   "id": "72a34513",
   "metadata": {},
   "outputs": [],
   "source": [
    "monthly_df.dtypes\n",
    "monthly_df['date'] =  pd.to_datetime(monthly_df['date'])"
   ]
  },
  {
   "cell_type": "markdown",
   "id": "9a7f5cc3",
   "metadata": {},
   "source": [
    "### Step 7: Investigate the number of deaths from 1841 to 1846 "
   ]
  },
  {
   "cell_type": "markdown",
   "id": "d13ccbdb",
   "metadata": {},
   "source": [
    "#### Label the date at which handwashing started to \"start_handwashing\""
   ]
  },
  {
   "cell_type": "code",
   "execution_count": 20,
   "id": "3028d20a",
   "metadata": {},
   "outputs": [],
   "source": [
    "start_handwashing = pd.to_datetime('1847-06-01')"
   ]
  },
  {
   "cell_type": "markdown",
   "id": "d57d4d98",
   "metadata": {},
   "source": [
    "#### Split monthly into before and after handwashing_start"
   ]
  },
  {
   "cell_type": "code",
   "execution_count": 21,
   "id": "09b2520e",
   "metadata": {},
   "outputs": [],
   "source": [
    "before_washing = monthly_df[monthly_df[\"date\"] < start_handwashing]\n",
    "after_washing = monthly_df[monthly_df[\"date\"] >= start_handwashing]"
   ]
  },
  {
   "cell_type": "markdown",
   "id": "c687daec",
   "metadata": {},
   "source": [
    "#### Before Handwashing"
   ]
  },
  {
   "cell_type": "code",
   "execution_count": 22,
   "id": "39c3eadc",
   "metadata": {},
   "outputs": [
    {
     "data": {
      "text/plain": [
       "Text(0, 0.5, 'Proportion of Deaths')"
      ]
     },
     "execution_count": 22,
     "metadata": {},
     "output_type": "execute_result"
    },
    {
     "data": {
      "image/png": "[encoded data removed]",
      "text/plain": [
       "<Figure size 1000x400 with 1 Axes>"
      ]
     },
     "metadata": {},
     "output_type": "display_data"
    }
   ],
   "source": [
    "fig,ax = plt.subplots(figsize = (10,4))\n",
    "x= before_washing[\"date\"]\n",
    "y= before_washing[\"Proportion of Deaths\"]\n",
    "plt.plot(x, y, color= \"orange\")\n",
    "plt.title(\"Before Handwashing\", fontsize=16)\n",
    "plt.xlabel(\"Date\", fontsize=14)\n",
    "plt.ylabel(\"Proportion of Deaths\", fontsize=14)"
   ]
  },
  {
   "cell_type": "markdown",
   "id": "2bcc3d2b",
   "metadata": {},
   "source": [
    "#### After Handwashing"
   ]
  },
  {
   "cell_type": "code",
   "execution_count": 23,
   "id": "b8823d6e",
   "metadata": {},
   "outputs": [
    {
     "data": {
      "text/plain": [
       "Text(0, 0.5, 'Proportion of Deaths')"
      ]
     },
     "execution_count": 23,
     "metadata": {},
     "output_type": "execute_result"
    },
    {
     "data": {
      "image/png": "[encoded data removed]",
      "text/plain": [
       "<Figure size 1000x400 with 1 Axes>"
      ]
     },
     "metadata": {},
     "output_type": "display_data"
    }
   ],
   "source": [
    "fig,ax = plt.subplots(figsize = (10,4))\n",
    "x= after_washing[\"date\"]\n",
    "y= after_washing[\"Proportion of Deaths\"]\n",
    "plt.plot(x, y, color= \"green\")\n",
    "plt.title(\"After Handwashing\", fontsize=16)\n",
    "plt.xlabel(\"Date\", fontsize=14)\n",
    "plt.ylabel(\"Proportion of Deaths\", fontsize=14)"
   ]
  },
  {
   "cell_type": "markdown",
   "id": "8fc47dd0",
   "metadata": {},
   "source": [
    "#### To see the difference clearly, let's combine the 2 plots in one chart."
   ]
  },
  {
   "cell_type": "code",
   "execution_count": 24,
   "id": "16c715cd",
   "metadata": {},
   "outputs": [
    {
     "data": {
      "text/plain": [
       "Text(0, 0.5, 'Proportion of Deaths')"
      ]
     },
     "execution_count": 24,
     "metadata": {},
     "output_type": "execute_result"
    },
    {
     "data": {
      "text/plain": [
       "<Figure size 1000x400 with 0 Axes>"
      ]
     },
     "metadata": {},
     "output_type": "display_data"
    },
    {
     "data": {
      "image/png": "[encoded data removed]",
      "text/plain": [
       "<Figure size 640x480 with 1 Axes>"
      ]
     },
     "metadata": {},
     "output_type": "display_data"
    }
   ],
   "source": [
    "plt.figure(figsize=(10, 4))\n",
    "ax = before_washing.plot(x=\"date\", y=\"Proportion of Deaths\", label=\"Before Handwashing\", color=\"orange\")\n",
    "after_washing.plot(x=\"date\", y=\"Proportion of Deaths\", label=\"After Handwashing\", ax=ax, color=\"green\")\n",
    "plt.ylabel(\"Proportion of Deaths\")"
   ]
  },
  {
   "cell_type": "markdown",
   "id": "2790db27",
   "metadata": {},
   "source": [
    "## The difference is pretty clear! the proportion of deaths dramatically decreased after handwashing was made obligatory."
   ]
  },
  {
   "cell_type": "markdown",
   "id": "671f5b76",
   "metadata": {},
   "source": [
    "#### Let's calculate exactly how much did handwashing decreased the proportion of deaths on average."
   ]
  },
  {
   "cell_type": "code",
   "execution_count": 25,
   "id": "e58031f6",
   "metadata": {},
   "outputs": [],
   "source": [
    "before_proportion = before_washing[\"Proportion of Deaths\"]\n",
    "after_proportion = after_washing[\"Proportion of Deaths\"]"
   ]
  },
  {
   "cell_type": "code",
   "execution_count": 26,
   "id": "8f6add7c",
   "metadata": {},
   "outputs": [
    {
     "data": {
      "text/plain": [
       "0.10504998260908789"
      ]
     },
     "execution_count": 26,
     "metadata": {},
     "output_type": "execute_result"
    }
   ],
   "source": [
    "before_proportion.mean()"
   ]
  },
  {
   "cell_type": "code",
   "execution_count": 27,
   "id": "f5b5f8fd",
   "metadata": {},
   "outputs": [
    {
     "data": {
      "text/plain": [
       "0.021093375097254535"
      ]
     },
     "execution_count": 27,
     "metadata": {},
     "output_type": "execute_result"
    }
   ],
   "source": [
    "after_proportion.mean()"
   ]
  },
  {
   "cell_type": "markdown",
   "id": "82ef8e05",
   "metadata": {},
   "source": [
    "#### Calculate the difference between both proportions"
   ]
  },
  {
   "cell_type": "code",
   "execution_count": 28,
   "id": "435fe48c",
   "metadata": {},
   "outputs": [
    {
     "data": {
      "text/plain": [
       "-0.08395660751183336"
      ]
     },
     "execution_count": 28,
     "metadata": {},
     "output_type": "execute_result"
    }
   ],
   "source": [
    "mean_diff = after_proportion.mean() - before_proportion.mean()\n",
    "mean_diff"
   ]
  },
  {
   "cell_type": "markdown",
   "id": "3b08072e",
   "metadata": {},
   "source": [
    "## The minus sign indicate that there is a decrease. So handwashing decreased the proportion of deaths from 10% to 2% i.e, by approximately 8%."
   ]
  },
  {
   "cell_type": "markdown",
   "id": "7aca03b5",
   "metadata": {},
   "source": [
    "### Investigate the number of deaths from 1841 to 1846"
   ]
  },
  {
   "cell_type": "code",
   "execution_count": 29,
   "id": "868fb466",
   "metadata": {},
   "outputs": [
    {
     "name": "stdout",
     "output_type": "stream",
     "text": [
      "    year  births  deaths    clinic  Proportion of Deaths\n",
      "0   1841    3036     237  clinic 1              0.078063\n",
      "1   1842    3287     518  clinic 1              0.157591\n",
      "2   1843    3060     274  clinic 1              0.089542\n",
      "3   1844    3157     260  clinic 1              0.082357\n",
      "4   1845    3492     241  clinic 1              0.069015\n",
      "5   1846    4010     459  clinic 1              0.114464\n",
      "6   1841    2442      86  clinic 2              0.035217\n",
      "7   1842    2659     202  clinic 2              0.075968\n",
      "8   1843    2739     164  clinic 2              0.059876\n",
      "9   1844    2956      68  clinic 2              0.023004\n",
      "10  1845    3241      66  clinic 2              0.020364\n",
      "11  1846    3754     105  clinic 2              0.027970\n"
     ]
    }
   ],
   "source": [
    "deaths_1841_to_1846 = yearly_df[yearly_df['year'].between(1841, 1846)]\n",
    "print(deaths_1841_to_1846)"
   ]
  }
 ],
 "metadata": {
  "kernelspec": {
   "display_name": "Python 3 (ipykernel)",
   "language": "python",
   "name": "python3"
  },
  "language_info": {
   "codemirror_mode": {
    "name": "ipython",
    "version": 3
   },
   "file_extension": ".py",
   "mimetype": "text/x-python",
   "name": "python",
   "nbconvert_exporter": "python",
   "pygments_lexer": "ipython3",
   "version": "3.11.4"
  }
 },
 "nbformat": 4,
 "nbformat_minor": 5
}
